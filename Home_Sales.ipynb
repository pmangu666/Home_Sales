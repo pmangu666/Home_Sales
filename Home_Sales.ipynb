{
 "cells": [
  {
   "cell_type": "code",
   "execution_count": 0,
   "metadata": {
    "application/vnd.databricks.v1+cell": {
     "cellMetadata": {
      "byteLimit": 2048000,
      "rowLimit": 10000
     },
     "inputWidgets": {},
     "nuid": "2de44cbe-8275-42b3-bdcc-87bcf87f578c",
     "showTitle": false,
     "tableResultSettingsMap": {},
     "title": ""
    },
    "colab": {
     "base_uri": "https://localhost:8080/"
    },
    "id": "a_KW73O2e3dw",
    "outputId": "d48a498e-e30d-43e5-d85b-3081b50ff001"
   },
   "outputs": [
    {
     "output_type": "stream",
     "name": "stdout",
     "output_type": "stream",
     "text": [
      "\r0% [Working]\r            \rHit:1 https://repos.azul.com/zulu/deb stable InRelease\r\n\r0% [Waiting for headers] [Waiting for headers] [Waiting for headers]\r                                                                    \rGet:2 http://security.ubuntu.com/ubuntu focal-security InRelease [128 kB]\r\n\r0% [Waiting for headers] [2 InRelease 14.2 kB/128 kB 11%] [Waiting for headers]\r                                                                               \rHit:3 http://ppa.launchpad.net/deadsnakes/ppa/ubuntu focal InRelease\r\n\r                                                                               \r0% [Waiting for headers] [2 InRelease 14.2 kB/128 kB 11%]\r                                                         \rHit:4 http://archive.ubuntu.com/ubuntu focal InRelease\r\n\r0% [Waiting for headers] [2 InRelease 14.2 kB/128 kB 11%]\r                                                         \rGet:5 http://archive.ubuntu.com/ubuntu focal-updates InRelease [128 kB]\r\n\r0% [5 InRelease 12.7 kB/128 kB 10%] [2 InRelease 22.9 kB/128 kB 18%]\r0% [5 InRelease 18.5 kB/128 kB 14%] [2 InRelease 54.7 kB/128 kB 43%]\r                                                                    \r0% [5 InRelease 70.6 kB/128 kB 55%]\r                                   \r0% [5 InRelease 104 kB/128 kB 81%]\r                                  \r0% [Waiting for headers]\r                        \rGet:6 http://archive.ubuntu.com/ubuntu focal-backports InRelease [128 kB]\r\n\r0% [6 InRelease 2588 B/128 kB 2%]\r0% [6 InRelease 56.4 kB/128 kB 44%]\r                                   \r0% [6 InRelease 113 kB/128 kB 88%]\r                                  \r0% [Waiting for headers]\r0% [Waiting for headers]\r                        \rGet:7 http://security.ubuntu.com/ubuntu focal-security/restricted amd64 Packages [4337 kB]\r\n\r0% [Waiting for headers] [7 Packages 2655 B/4337 kB 0%]\r                                                       \rGet:8 http://archive.ubuntu.com/ubuntu focal-updates/main amd64 Packages [4699 kB]\r\n\r0% [8 Packages 2655 B/4699 kB 0%] [7 Packages 56.5 kB/4337 kB 1%]\r19% [8 Packages 18.6 kB/4699 kB 0%] [7 Packages 73.6 kB/4337 kB 2%]\r25% [8 Packages 1119 kB/4699 kB 24%] [7 Packages 747 kB/4337 kB 17%]\r52% [8 Packages 4699 kB/4699 kB 100%] [7 Packages 4337 kB/4337 kB 100%]\r                                                                       \r52% [7 Packages 4337 kB/4337 kB 100%]\r52% [8 Packages store 0 B] [Waiting for headers] [7 Packages 4337 kB/4337 kB 10\r                                                                               \r52% [8 Packages store 0 B] [Waiting for headers]\r                                                \rGet:9 http://archive.ubuntu.com/ubuntu focal-updates/restricted amd64 Packages [4526 kB]\r\n\r53% [8 Packages store 0 B] [9 Packages 24.9 kB/4526 kB 1%] [Waiting for headers\r                                                                               \rGet:10 http://security.ubuntu.com/ubuntu focal-security/universe amd64 Packages [1298 kB]\r\n\r56% [8 Packages store 0 B] [9 Packages 987 kB/4526 kB 22%] [10 Packages 64.9 kB\r                                                                               \r65% [8 Packages store 0 B] [9 Packages 2126 kB/4526 kB 47%]\r                                                           \rGet:11 http://security.ubuntu.com/ubuntu focal-security/main amd64 Packages [4223 kB]\r\n\r65% [8 Packages store 0 B] [9 Packages 2126 kB/4526 kB 47%] [11 Packages 0 B/42\r                                                                               \r84% [8 Packages store 0 B] [11 Packages 2556 kB/4223 kB 61%]\r                                                            \r85% [11 Packages 2556 kB/4223 kB 61%]\r                                     \rGet:12 http://archive.ubuntu.com/ubuntu focal-updates/universe amd64 Packages [1590 kB]\r\n\r85% [7 Packages store 0 B] [12 Packages 65.5 kB/1590 kB 4%] [11 Packages 2556 k\r                                                                               \r97% [7 Packages store 0 B] [11 Packages 4143 kB/4223 kB 98%]\r                                                            \r97% [7 Packages store 0 B]\r                          \rGet:13 http://security.ubuntu.com/ubuntu focal-security/multiverse amd64 Packages [30.9 kB]\r\n\r97% [7 Packages store 0 B] [13 Packages 8192 B/30.9 kB 27%]\r                                                           \r97% [7 Packages store 0 B]\r                          \r98% [Working]\r98% [10 Packages store 0 B]\r                           \r98% [Working]\r98% [9 Packages store 0 B]\r                          \r99% [Working]\r99% [12 Packages store 0 B]\r                           \r99% [Working]\r99% [11 Packages store 0 B]\r                           \r100% [Working]\r100% [13 Packages store 0 B]\r                            \r100% [Working]\r              \rFetched 21.1 MB in 5s (4684 kB/s)\r\n\rReading package lists... 0%\r\rReading package lists... 0%\r\rReading package lists... 0%\r\rReading package lists... 3%\r\rReading package lists... 3%\r\rReading package lists... 3%\r\rReading package lists... 3%\r\rReading package lists... 29%\r\rReading package lists... 35%\r\rReading package lists... 35%\r\rReading package lists... 36%\r\rReading package lists... 36%\r\rReading package lists... 49%\r\rReading package lists... 49%\r\rReading package lists... 55%\r\rReading package lists... 62%\r\rReading package lists... 62%\r\rReading package lists... 67%\r\rReading package lists... 67%\r\rReading package lists... 67%\r\rReading package lists... 67%\r\rReading package lists... 67%\r\rReading package lists... 67%\r\rReading package lists... 67%\r\rReading package lists... 67%\r\rReading package lists... 79%\r\rReading package lists... 79%\r\rReading package lists... 92%\r\rReading package lists... 92%\r\rReading package lists... 96%\r\rReading package lists... 96%\r\rReading package lists... 96%\r\rReading package lists... 96%\r\rReading package lists... 96%\r\rReading package lists... 96%\r\rReading package lists... 98%\r\rReading package lists... 98%\r\rReading package lists... 99%\r\rReading package lists... 99%\r\rReading package lists... Done\r\r\ndebconf: delaying package configuration, since apt-utils is not installed\r\n\u001B[33mWARNING: You are using pip version 21.2.4; however, version 25.0.1 is available.\r\nYou should consider upgrading via the '/local_disk0/.ephemeral_nfs/envs/pythonEnv-a8818eed-9408-4e1d-8d98-d362f7b3946c/bin/python -m pip install --upgrade pip' command.\u001B[0m\r\n"
     ]
    }
   ],
   "source": [
    "import os\n",
    "# Find the latest version of spark 3.x  from http://www.apache.org/dist/spark/ and enter as the spark version\n",
    "# For example:\n",
    "# spark_version = 'spark-3.5.3'\n",
    "spark_version = 'spark-3.5.4'\n",
    "os.environ['SPARK_VERSION']=spark_version\n",
    "\n",
    "# Install Spark and Java\n",
    "!apt-get update\n",
    "!apt-get install openjdk-11-jdk-headless -qq > /dev/null\n",
    "!wget -q http://www.apache.org/dist/spark/$SPARK_VERSION/$SPARK_VERSION-bin-hadoop3.tgz\n",
    "!tar xf $SPARK_VERSION-bin-hadoop3.tgz\n",
    "!pip install -q findspark\n",
    "\n",
    "# Set Environment Variables\n",
    "os.environ[\"JAVA_HOME\"] = \"/usr/lib/jvm/java-11-openjdk-amd64\"\n",
    "os.environ[\"SPARK_HOME\"] = f\"/content/{spark_version}-bin-hadoop3\"\n",
    "\n",
    "# Start a SparkSession\n",
    "import findspark\n",
    "findspark.init()"
   ]
  },
  {
   "cell_type": "code",
   "execution_count": 0,
   "metadata": {
    "application/vnd.databricks.v1+cell": {
     "cellMetadata": {
      "byteLimit": 2048000,
      "rowLimit": 10000
     },
     "inputWidgets": {},
     "nuid": "935144df-bfb8-497f-9034-c1e3274e43ff",
     "showTitle": false,
     "tableResultSettingsMap": {},
     "title": ""
    },
    "id": "2XbWNf1Te5fM"
   },
   "outputs": [],
   "source": [
    "# Import packages\n",
    "from pyspark.sql import SparkSession\n",
    "from pyspark.sql.functions import year, col, round, avg\n",
    "from pyspark.sql.types import StringType\n",
    "import time\n",
    "\n",
    "# Create a SparkSession\n",
    "spark = SparkSession.builder.appName(\"SparkSQL\").getOrCreate()"
   ]
  },
  {
   "cell_type": "code",
   "execution_count": 0,
   "metadata": {
    "application/vnd.databricks.v1+cell": {
     "cellMetadata": {
      "byteLimit": 2048000,
      "rowLimit": 10000
     },
     "inputWidgets": {},
     "nuid": "3d5b787a-8614-41f9-80f2-883500ef4bea",
     "showTitle": false,
     "tableResultSettingsMap": {},
     "title": ""
    },
    "id": "wOJqxG_RPSwp"
   },
   "outputs": [],
   "source": [
    "# 1. Read the home_sales_revised.csv from the provided AWS S3 bucket location into a PySpark DataFrame.\n",
    "from pyspark import SparkFiles\n",
    "url = \"https://2u-data-curriculum-team.s3.amazonaws.com/dataviz-classroom/v1.2/22-big-data/home_sales_revised.csv\"\n"
   ]
  },
  {
   "cell_type": "code",
   "execution_count": 0,
   "metadata": {
    "application/vnd.databricks.v1+cell": {
     "cellMetadata": {
      "byteLimit": 2048000,
      "rowLimit": 10000
     },
     "inputWidgets": {},
     "nuid": "6511d585-44c7-42d3-81fb-b27006994e8a",
     "showTitle": false,
     "tableResultSettingsMap": {},
     "title": ""
    }
   },
   "outputs": [
    {
     "output_type": "stream",
     "name": "stdout",
     "output_type": "stream",
     "text": [
      "Out[7]: True"
     ]
    }
   ],
   "source": [
    "# Upload the file to DBFS\n",
    "dbutils.fs.cp(\"https://2u-data-curriculum-team.s3.amazonaws.com/dataviz-classroom/v1.2/22-big-data/home_sales_revised.csv\", \"dbfs:/FileStore/tables/home_sales_revised.csv\")\n"
   ]
  },
  {
   "cell_type": "code",
   "execution_count": 0,
   "metadata": {
    "application/vnd.databricks.v1+cell": {
     "cellMetadata": {
      "byteLimit": 2048000,
      "rowLimit": 10000
     },
     "inputWidgets": {},
     "nuid": "6ba8f4aa-7aef-44e8-aa99-bd5d129b5226",
     "showTitle": false,
     "tableResultSettingsMap": {},
     "title": ""
    }
   },
   "outputs": [],
   "source": [
    "# Read the home_sales_revised.csv from DBFS into a PySpark DataFrame\n",
    "file_location = \"dbfs:/FileStore/tables/home_sales_revised.csv\"\n",
    "home_sales_df = spark.read.option(\"header\", \"true\").option(\"inferSchema\", \"true\").csv(file_location)\n"
   ]
  },
  {
   "cell_type": "code",
   "execution_count": 0,
   "metadata": {
    "application/vnd.databricks.v1+cell": {
     "cellMetadata": {
      "byteLimit": 2048000,
      "rowLimit": 10000
     },
     "inputWidgets": {},
     "nuid": "d58a2089-3bc6-4954-b0a2-b2bd1cfc9621",
     "showTitle": false,
     "tableResultSettingsMap": {},
     "title": ""
    },
    "id": "RoljcJ7WPpnm"
   },
   "outputs": [],
   "source": [
    "# 2. Create a temporary view of the DataFrame.\n",
    "home_sales_df.createOrReplaceTempView(\"home_sales\")"
   ]
  },
  {
   "cell_type": "code",
   "execution_count": 0,
   "metadata": {
    "application/vnd.databricks.v1+cell": {
     "cellMetadata": {
      "byteLimit": 2048000,
      "rowLimit": 10000
     },
     "inputWidgets": {},
     "nuid": "c154e356-094b-443f-b52e-f936ca18bc54",
     "showTitle": false,
     "tableResultSettingsMap": {},
     "title": ""
    },
    "id": "L6fkwOeOmqvq"
   },
   "outputs": [
    {
     "output_type": "stream",
     "name": "stdout",
     "output_type": "stream",
     "text": [
      "+----+---------+\n|year|avg_price|\n+----+---------+\n|2019| 300263.7|\n|2020|298353.78|\n|2021|301819.44|\n|2022|296363.88|\n+----+---------+\n\n"
     ]
    }
   ],
   "source": [
    "# 3. What is the average price for a four bedroom house sold per year, rounded to two decimal places?\n",
    "\n",
    "# Run the query using PySpark\n",
    "four_bedroom_avg_price_df = home_sales_df.filter(home_sales_df.bedrooms == 4) \\\n",
    "    .groupBy(year(home_sales_df.date).alias(\"year\")) \\\n",
    "    .agg(round(avg(\"price\"), 2).alias(\"avg_price\")) \\\n",
    "    .orderBy(\"year\")\n",
    "\n",
    "# Show the results\n",
    "four_bedroom_avg_price_df.show()"
   ]
  },
  {
   "cell_type": "code",
   "execution_count": 0,
   "metadata": {
    "application/vnd.databricks.v1+cell": {
     "cellMetadata": {
      "byteLimit": 2048000,
      "rowLimit": 10000
     },
     "inputWidgets": {},
     "nuid": "fd2e42e9-0a64-4435-b90f-6077c7fa16e7",
     "showTitle": false,
     "tableResultSettingsMap": {},
     "title": ""
    },
    "id": "l8p_tUS8h8it"
   },
   "outputs": [
    {
     "output_type": "stream",
     "name": "stdout",
     "output_type": "stream",
     "text": [
      "+----------+---------+\n|year_built|avg_price|\n+----------+---------+\n|      2010|292859.62|\n|      2011|291117.47|\n|      2012|293683.19|\n|      2013|295962.27|\n|      2014|290852.27|\n|      2015| 288770.3|\n|      2016|290555.07|\n|      2017|292676.79|\n+----------+---------+\n\n"
     ]
    }
   ],
   "source": [
    "# 4. What is the average price of a home for each year the home was built,\n",
    "# that have 3 bedrooms and 3 bathrooms, rounded to two decimal places?\n",
    "home_sales_df = home_sales_df.withColumn(\"date_built_str\", col(\"date_built\").cast(StringType()))\n",
    "\n",
    "avg_price_df = home_sales_df.filter((home_sales_df.bedrooms == 3) & (home_sales_df.bathrooms == 3)) \\\n",
    "    .groupBy(home_sales_df.date_built_str.alias(\"year_built\")) \\\n",
    "    .agg(round(avg(\"price\"), 2).alias(\"avg_price\")) \\\n",
    "    .orderBy(\"year_built\")\n",
    "\n",
    "avg_price_df.show()                                                                  "
   ]
  },
  {
   "cell_type": "code",
   "execution_count": 0,
   "metadata": {
    "application/vnd.databricks.v1+cell": {
     "cellMetadata": {
      "byteLimit": 2048000,
      "rowLimit": 10000
     },
     "inputWidgets": {},
     "nuid": "cc78568e-4d09-4b7e-b82c-05044e8a03c1",
     "showTitle": false,
     "tableResultSettingsMap": {},
     "title": ""
    },
    "id": "Y-Eytz64liDU"
   },
   "outputs": [
    {
     "output_type": "stream",
     "name": "stdout",
     "output_type": "stream",
     "text": [
      "+----------+---------+\n|year_built|avg_price|\n+----------+---------+\n|      2010|285010.22|\n|      2011|276553.81|\n|      2012|307539.97|\n|      2013|303676.79|\n|      2014|298264.72|\n|      2015|297609.97|\n|      2016| 293965.1|\n|      2017|280317.58|\n+----------+---------+\n\n"
     ]
    }
   ],
   "source": [
    "# 5. What is the average price of a home for each year the home was built,\n",
    "# that have 3 bedrooms, 3 bathrooms, with two floors,\n",
    "# and are greater than or equal to 2,000 square feet, rounded to two decimal places?\n",
    "filtered_df = home_sales_df.filter(\n",
    "    (home_sales_df.bedrooms == 3) &\n",
    "    (home_sales_df.bathrooms == 3) &\n",
    "    (home_sales_df.floors == 2) &\n",
    "    (home_sales_df.sqft_living >= 2000)\n",
    ")\n",
    "\n",
    "avg_price_df = filtered_df.groupBy(col(\"date_built\").alias(\"year_built\")) \\\n",
    "    .agg(round(avg(\"price\"), 2).alias(\"avg_price\")) \\\n",
    "    .orderBy(\"year_built\")\n",
    "\n",
    "avg_price_df.show()"
   ]
  },
  {
   "cell_type": "code",
   "execution_count": 0,
   "metadata": {
    "application/vnd.databricks.v1+cell": {
     "cellMetadata": {
      "byteLimit": 2048000,
      "rowLimit": 10000
     },
     "inputWidgets": {},
     "nuid": "0f5aa0c4-43e0-4889-912b-038f5646e466",
     "showTitle": false,
     "tableResultSettingsMap": {},
     "title": ""
    },
    "colab": {
     "base_uri": "https://localhost:8080/"
    },
    "id": "GUrfgOX1pCRd",
    "outputId": "0a645986-7179-440c-c0bc-345f1693f8af"
   },
   "outputs": [
    {
     "output_type": "stream",
     "name": "stdout",
     "output_type": "stream",
     "text": [
      "+----+----------+\n|view| avg_price|\n+----+----------+\n| 100| 1026669.5|\n|  99|1061201.42|\n|  98|1053739.33|\n|  97|1129040.15|\n|  96|1017815.92|\n|  95| 1054325.6|\n|  94| 1033536.2|\n|  93|1026006.06|\n|  92| 970402.55|\n|  91|1137372.73|\n|  90|1062654.16|\n|  89|1107839.15|\n|  88|1031719.35|\n|  87| 1072285.2|\n|  86|1070444.25|\n|  85|1056336.74|\n|  84|1117233.13|\n|  83|1033965.93|\n|  82| 1063498.0|\n|  81|1053472.79|\n+----+----------+\nonly showing top 20 rows\n\n--- 1.4741864204406738 seconds ---\n"
     ]
    }
   ],
   "source": [
    "# 6. What is the average price of a home per \"view\" rating, rounded to two decimal places,\n",
    "# having an average home price greater than or equal to $350,000? Order by descending view rating.\n",
    "# Although this is a small dataset, determine the run time for this query.\n",
    "\n",
    "start_time = time.time()\n",
    "\n",
    "view_avg_price_df = home_sales_df.groupBy(\"view\") \\\n",
    "    .agg(round(avg(\"price\"), 2).alias(\"avg_price\")) \\\n",
    "    .filter(\"avg_price >= 350000\") \\\n",
    "    .orderBy(col(\"view\").desc())\n",
    "\n",
    "view_avg_price_df.show()\n",
    "\n",
    "print(\"--- %s seconds ---\" % (time.time() - start_time))"
   ]
  },
  {
   "cell_type": "code",
   "execution_count": 0,
   "metadata": {
    "application/vnd.databricks.v1+cell": {
     "cellMetadata": {
      "byteLimit": 2048000,
      "rowLimit": 10000
     },
     "inputWidgets": {},
     "nuid": "51dfe94c-22c0-4774-9230-f29edf038993",
     "showTitle": false,
     "tableResultSettingsMap": {},
     "title": ""
    },
    "id": "KAhk3ZD2tFy8"
   },
   "outputs": [
    {
     "output_type": "stream",
     "name": "stdout",
     "output_type": "stream",
     "text": [
      "Out[25]: DataFrame[]"
     ]
    }
   ],
   "source": [
    "# 7. Cache the the temporary table home_sales.\n",
    "spark.sql(\"CACHE TABLE home_sales\")"
   ]
  },
  {
   "cell_type": "code",
   "execution_count": 0,
   "metadata": {
    "application/vnd.databricks.v1+cell": {
     "cellMetadata": {
      "byteLimit": 2048000,
      "rowLimit": 10000
     },
     "inputWidgets": {},
     "nuid": "771f886c-3b30-4b2c-9ade-edc6439e2993",
     "showTitle": false,
     "tableResultSettingsMap": {},
     "title": ""
    },
    "id": "4opVhbvxtL-i"
   },
   "outputs": [
    {
     "output_type": "stream",
     "name": "stdout",
     "output_type": "stream",
     "text": [
      "Out[26]: True"
     ]
    }
   ],
   "source": [
    "# 8. Check if the table is cached.\n",
    "spark.catalog.isCached('home_sales')"
   ]
  },
  {
   "cell_type": "code",
   "execution_count": 0,
   "metadata": {
    "application/vnd.databricks.v1+cell": {
     "cellMetadata": {
      "byteLimit": 2048000,
      "rowLimit": 10000
     },
     "inputWidgets": {},
     "nuid": "7d2d1b03-1b0b-4d32-92b0-a9b5d597729a",
     "showTitle": false,
     "tableResultSettingsMap": {},
     "title": ""
    },
    "colab": {
     "base_uri": "https://localhost:8080/"
    },
    "id": "5GnL46lwTSEk",
    "outputId": "63c7dc50-d96a-4a48-97b6-91a446cdb973"
   },
   "outputs": [
    {
     "output_type": "stream",
     "name": "stdout",
     "output_type": "stream",
     "text": [
      "+----+----------+\n|view| avg_price|\n+----+----------+\n| 100| 1026669.5|\n|  99|1061201.42|\n|  98|1053739.33|\n|  97|1129040.15|\n|  96|1017815.92|\n|  95| 1054325.6|\n|  94| 1033536.2|\n|  93|1026006.06|\n|  92| 970402.55|\n|  91|1137372.73|\n|  90|1062654.16|\n|  89|1107839.15|\n|  88|1031719.35|\n|  87| 1072285.2|\n|  86|1070444.25|\n|  85|1056336.74|\n|  84|1117233.13|\n|  83|1033965.93|\n|  82| 1063498.0|\n|  81|1053472.79|\n+----+----------+\nonly showing top 20 rows\n\n--- 1.3503689765930176 seconds ---\n"
     ]
    }
   ],
   "source": [
    "# 9. Using the cached data, run the last query above, that calculates\n",
    "# the average price of a home per \"view\" rating, rounded to two decimal places,\n",
    "# having an average home price greater than or equal to $350,000.\n",
    "# Determine the runtime and compare it to the uncached runtime.\n",
    "\n",
    "start_time = time.time()\n",
    "\n",
    "view_avg_price_df = spark.sql(\"\"\"\n",
    "SELECT view, ROUND(AVG(price), 2) AS avg_price\n",
    "FROM home_sales\n",
    "GROUP BY view\n",
    "HAVING AVG(price) >= 350000\n",
    "ORDER BY view DESC\n",
    "\"\"\")\n",
    "\n",
    "view_avg_price_df.show()\n",
    "\n",
    "print(\"--- %s seconds ---\" % (time.time() - start_time))"
   ]
  },
  {
   "cell_type": "code",
   "execution_count": 0,
   "metadata": {
    "application/vnd.databricks.v1+cell": {
     "cellMetadata": {
      "byteLimit": 2048000,
      "rowLimit": 10000
     },
     "inputWidgets": {},
     "nuid": "3b8ef419-e5db-4941-8518-690bc6615908",
     "showTitle": false,
     "tableResultSettingsMap": {},
     "title": ""
    },
    "id": "Qm12WN9isHBR"
   },
   "outputs": [],
   "source": [
    "# 10. Partition by the \"date_built\" field on the formatted parquet home sales data\n",
    "home_sales_df.write.partitionBy(\"date_built\").parquet(\"/path/to/partitioned_home_sales\")"
   ]
  },
  {
   "cell_type": "code",
   "execution_count": 0,
   "metadata": {
    "application/vnd.databricks.v1+cell": {
     "cellMetadata": {
      "byteLimit": 2048000,
      "rowLimit": 10000
     },
     "inputWidgets": {},
     "nuid": "c134bdcc-f7ac-4281-8520-73ae3f71c790",
     "showTitle": false,
     "tableResultSettingsMap": {},
     "title": ""
    },
    "id": "AZ7BgY61sRqY"
   },
   "outputs": [
    {
     "output_type": "stream",
     "name": "stdout",
     "output_type": "stream",
     "text": [
      "+--------------------+----------+------+--------+---------+-----------+--------+------+----------+----+--------------+----------+\n|                  id|      date| price|bedrooms|bathrooms|sqft_living|sqft_lot|floors|waterfront|view|date_built_str|date_built|\n+--------------------+----------+------+--------+---------+-----------+--------+------+----------+----+--------------+----------+\n|2ed8d509-7372-46d...|2021-08-06|258710|       3|        3|       1918|    9666|     1|         0|  25|          2015|      2015|\n|941bad30-eb49-4a7...|2020-05-09|229896|       3|        3|       2197|    8641|     1|         0|   3|          2015|      2015|\n|c797ca12-52cd-4b1...|2019-06-08|288650|       2|        3|       2100|   10419|     2|         0|   7|          2015|      2015|\n|0cfe57f3-28c2-472...|2019-10-04|308313|       3|        3|       1960|    9453|     2|         0|   2|          2015|      2015|\n|d715f295-2fbf-4e9...|2021-05-17|391574|       3|        2|       1635|    8040|     2|         0|  10|          2015|      2015|\n|a18515a2-86f3-46b...|2022-02-18|419543|       3|        2|       1642|   12826|     2|         0|  24|          2015|      2015|\n|98f6a9ad-8870-474...|2022-05-07|136752|       2|        3|       1701|   10771|     2|         0|   5|          2015|      2015|\n|7ac67498-b6f3-403...|2021-05-12|349318|       4|        3|       2417|   11304|     2|         0|  37|          2015|      2015|\n|c9bfdb1c-2499-4e3...|2021-12-07|268874|       2|        2|       1537|   12177|     1|         0|  10|          2015|      2015|\n|34c31a34-220d-469...|2019-02-06|409011|       3|        3|       2356|   10507|     1|         0|   1|          2015|      2015|\n|be0ccb95-415d-411...|2020-05-15|425154|       4|        3|       2120|   14229|     2|         0|   4|          2015|      2015|\n|e9031a86-1294-444...|2021-10-09|222322|       4|        3|       1928|   10510|     1|         0|  38|          2015|      2015|\n|e6d7c2a7-596e-4ec...|2019-03-15|131201|       4|        3|       1633|   14655|     1|         0|  22|          2015|      2015|\n|6683714b-3df7-454...|2022-02-01|333403|       4|        2|       2059|    9793|     2|         0|   4|          2015|      2015|\n|00fc996f-508c-430...|2021-07-15|373139|       3|        3|       1763|   11363|     1|         0|  39|          2015|      2015|\n|3d5545f8-bd3b-476...|2020-09-19|797862|       4|        6|       3494|   10385|     2|         0|  90|          2015|      2015|\n|ec6d357c-2435-43e...|2019-05-28|401792|       3|        2|       1627|   10765|     1|         0|  50|          2015|      2015|\n|c2be38fb-814a-403...|2020-03-20|352237|       3|        3|       2485|   10954|     2|         0|   6|          2015|      2015|\n|9570de1f-5a74-45b...|2021-11-29|298453|       3|        2|       2222|   10634|     1|         0|   6|          2015|      2015|\n|1baeff4f-fc00-489...|2020-12-17|152775|       3|        2|       1623|   13851|     1|         0|  41|          2015|      2015|\n+--------------------+----------+------+--------+---------+-----------+--------+------+----------+----+--------------+----------+\nonly showing top 20 rows\n\n"
     ]
    }
   ],
   "source": [
    "# 11. Read the parquet formatted data.\n",
    "partitioned_df = spark.read.parquet(\"/path/to/partitioned_home_sales\")\n",
    "partitioned_df.show()"
   ]
  },
  {
   "cell_type": "code",
   "execution_count": 0,
   "metadata": {
    "application/vnd.databricks.v1+cell": {
     "cellMetadata": {
      "byteLimit": 2048000,
      "rowLimit": 10000
     },
     "inputWidgets": {},
     "nuid": "52decda6-d72c-4b9c-a3b1-c31f27f6622c",
     "showTitle": false,
     "tableResultSettingsMap": {},
     "title": ""
    },
    "id": "J6MJkHfvVcvh"
   },
   "outputs": [],
   "source": [
    "# 12. Create a temporary table for the parquet data.\n",
    "partitioned_df.createOrReplaceTempView(\"partitioned_home_sales\")"
   ]
  },
  {
   "cell_type": "code",
   "execution_count": 0,
   "metadata": {
    "application/vnd.databricks.v1+cell": {
     "cellMetadata": {
      "byteLimit": 2048000,
      "rowLimit": 10000
     },
     "inputWidgets": {},
     "nuid": "25a75aad-80c7-4aa3-a0ef-72ea8dad6f97",
     "showTitle": false,
     "tableResultSettingsMap": {},
     "title": ""
    },
    "colab": {
     "base_uri": "https://localhost:8080/"
    },
    "id": "G_Vhb52rU1Sn",
    "outputId": "d6748ea6-d70a-41fd-dcb8-c214a85e949e"
   },
   "outputs": [
    {
     "output_type": "stream",
     "name": "stdout",
     "output_type": "stream",
     "text": [
      "+----+----------+\n|view| avg_price|\n+----+----------+\n| 100| 1026669.5|\n|  99|1061201.42|\n|  98|1053739.33|\n|  97|1129040.15|\n|  96|1017815.92|\n|  95| 1054325.6|\n|  94| 1033536.2|\n|  93|1026006.06|\n|  92| 970402.55|\n|  91|1137372.73|\n|  90|1062654.16|\n|  89|1107839.15|\n|  88|1031719.35|\n|  87| 1072285.2|\n|  86|1070444.25|\n|  85|1056336.74|\n|  84|1117233.13|\n|  83|1033965.93|\n|  82| 1063498.0|\n|  81|1053472.79|\n+----+----------+\nonly showing top 20 rows\n\n--- 2.492353916168213 seconds ---\n"
     ]
    }
   ],
   "source": [
    "# 13. Using the parquet DataFrame, run the last query above, that calculates\n",
    "# the average price of a home per \"view\" rating, rounded to two decimal places,\n",
    "# having an average home price greater than or equal to $350,000.\n",
    "# Determine the runtime and compare it to the cached runtime.\n",
    "\n",
    "start_time = time.time()\n",
    "\n",
    "view_avg_price_parquet_df = spark.sql(\"\"\"\n",
    "SELECT view, ROUND(AVG(price), 2) AS avg_price\n",
    "FROM partitioned_home_sales\n",
    "GROUP BY view\n",
    "HAVING AVG(price) >= 350000\n",
    "ORDER BY view DESC\n",
    "\"\"\")\n",
    "\n",
    "view_avg_price_parquet_df.show()\n",
    "\n",
    "print(\"--- %s seconds ---\" % (time.time() - start_time))"
   ]
  },
  {
   "cell_type": "code",
   "execution_count": 0,
   "metadata": {
    "application/vnd.databricks.v1+cell": {
     "cellMetadata": {
      "byteLimit": 2048000,
      "rowLimit": 10000
     },
     "inputWidgets": {},
     "nuid": "53203f8c-bc0a-4c8e-8317-6d38186a3964",
     "showTitle": false,
     "tableResultSettingsMap": {},
     "title": ""
    },
    "id": "hjjYzQGjtbq8"
   },
   "outputs": [
    {
     "output_type": "stream",
     "name": "stdout",
     "output_type": "stream",
     "text": [
      "Out[32]: DataFrame[]"
     ]
    }
   ],
   "source": [
    "# 14. Uncache the home_sales temporary table.\n",
    "spark.sql(\"UNCACHE TABLE home_sales\")"
   ]
  },
  {
   "cell_type": "code",
   "execution_count": 0,
   "metadata": {
    "application/vnd.databricks.v1+cell": {
     "cellMetadata": {
      "byteLimit": 2048000,
      "rowLimit": 10000
     },
     "inputWidgets": {},
     "nuid": "f4c0c040-c665-4498-83f4-96f72d480572",
     "showTitle": false,
     "tableResultSettingsMap": {},
     "title": ""
    },
    "id": "Sy9NBvO7tlmm"
   },
   "outputs": [
    {
     "output_type": "stream",
     "name": "stdout",
     "output_type": "stream",
     "text": [
      "Is 'home_sales' table cached? False\n"
     ]
    }
   ],
   "source": [
    "# 15. Check if the home_sales is no longer cached\n",
    "is_cached = spark.catalog.isCached('home_sales')\n",
    "print(f\"Is 'home_sales' table cached? {is_cached}\")"
   ]
  },
  {
   "cell_type": "code",
   "execution_count": 0,
   "metadata": {
    "application/vnd.databricks.v1+cell": {
     "cellMetadata": {},
     "inputWidgets": {},
     "nuid": "88aa3a4d-aa58-4fb3-ae25-d7fd9d7df709",
     "showTitle": false,
     "tableResultSettingsMap": {},
     "title": ""
    },
    "id": "Si-BNruRUGK3"
   },
   "outputs": [],
   "source": []
  }
 ],
 "metadata": {
  "application/vnd.databricks.v1+notebook": {
   "computePreferences": null,
   "dashboards": [],
   "environmentMetadata": null,
   "language": "python",
   "notebookMetadata": {
    "pythonIndentUnit": 4
   },
   "notebookName": "Home_Sales",
   "widgets": {}
  },
  "colab": {
   "provenance": []
  },
  "gpuClass": "standard",
  "kernelspec": {
   "display_name": "Python 3 (ipykernel)",
   "language": "python",
   "name": "python3"
  },
  "language_info": {
   "codemirror_mode": {
    "name": "ipython",
    "version": 3
   },
   "file_extension": ".py",
   "mimetype": "text/x-python",
   "name": "python",
   "nbconvert_exporter": "python",
   "pygments_lexer": "ipython3",
   "version": "3.10.4"
  },
  "nteract": {
   "version": "0.28.0"
  }
 },
 "nbformat": 4,
 "nbformat_minor": 0
}
